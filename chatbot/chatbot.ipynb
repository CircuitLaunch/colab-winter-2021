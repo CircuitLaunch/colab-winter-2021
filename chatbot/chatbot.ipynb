{
 "cells": [
  {
   "cell_type": "code",
   "execution_count": null,
   "metadata": {},
   "outputs": [],
   "source": [
    "!pip install chatterbot"
   ]
  },
  {
   "cell_type": "code",
   "execution_count": null,
   "metadata": {},
   "outputs": [],
   "source": [
    "!pip install playsound"
   ]
  },
  {
   "cell_type": "code",
   "execution_count": null,
   "metadata": {},
   "outputs": [],
   "source": [
    "from chatterbot import ChatBot\n",
    "from chatterbot.trainers import ChatterBotCorpusTrainer, ListTrainer\n",
    "\n",
    "chatbot = ChatBot(name='Reachy',read_only = True, logic_adapters=[ {\n",
    "            'import_path': 'chatterbot.logic.BestMatch',\n",
    "                     'default_response': 'I am sorry, I do not understand. I am still learning. Please contact somebody for further assistance.',\n",
    "                     'maximum_similarity_threshold': 0.90\n",
    "        }\n",
    "        ], trainer='chatterbot.trainers.ChatterBotCorpusTrainer')\n",
    "\n",
    "# Create a new trainer for the chatbot\n",
    "trainer = ChatterBotCorpusTrainer(chatbot)\n",
    "\n",
    "# Train the chatbot based on the english corpus\n",
    "trainer.train(\"chatterbot.corpus.english\")\n",
    "\n",
    "# Train the chatbot based on lists\n",
    "\n",
    "small_talk = ['hi there!',\n",
    "             'hi',\n",
    "             'how do you do?',\n",
    "             'how are you?',\n",
    "             'i\\'m cool.',\n",
    "             'fine,you?',\n",
    "             'always cool.',\n",
    "             'i\\m ok',\n",
    "             'glad to heat that',\n",
    "             'i feel awesome',\n",
    "             'excellent, glad to hear that',\n",
    "             'not so good',\n",
    "             'sorry to hear that.',\n",
    "             'what\\'s your name?',\n",
    "             'i\\'m Reachy ']\n",
    "\n",
    "specific = ['i want to go to bathroom',\n",
    "            'ok, follow me to the bathroom',\n",
    "            'i want to go to the kitchen',\n",
    "            'ok, follow me to the kitchen',\n",
    "            'i need to call Dan',\n",
    "            'ok, please wait while I contact Dan',\n",
    "            'i need to call Leah',\n",
    "            'ok, please wait while I contact Leah']\n",
    "\n",
    "list_trainer = ListTrainer(chatbot)\n",
    "\n",
    "for item in (small_talk, specific):\n",
    "    list_trainer.train(item)"
   ]
  },
  {
   "cell_type": "code",
   "execution_count": null,
   "metadata": {},
   "outputs": [],
   "source": [
    "## For text to voice\n",
    "from gtts import gTTS\n",
    "import os\n",
    "## For voice to text\n",
    "import speech_recognition as sr\n",
    "from playsound import playsound\n"
   ]
  },
  {
   "cell_type": "code",
   "execution_count": null,
   "metadata": {},
   "outputs": [],
   "source": [
    "os.remove(\"speech0.mp3\")\n",
    "os.remove(\"speech1.mp3\")"
   ]
  },
  {
   "cell_type": "code",
   "execution_count": null,
   "metadata": {},
   "outputs": [],
   "source": []
  },
  {
   "cell_type": "code",
   "execution_count": null,
   "metadata": {},
   "outputs": [],
   "source": [
    "def speak (text):\n",
    "    global count\n",
    "\n",
    "    language = 'en-us'\n",
    "    speech = gTTS(text = text, lang = language, slow = False)\n",
    "    sf = TemporaryFile()\n",
    "    #speech.write_to_fp(sf) \n",
    "    filename = f'speech{count%2}.mp3'\n",
    "    speech.save(filename)\n",
    "    print( \"Reachy: \" + text)\n",
    "    playsound(filename)\n",
    "    os.remove(filename)\n",
    "    count +=1\n",
    "### Voice to text \n",
    "\n",
    "def listen ():\n",
    "    #obtain audio from microphone \n",
    "    r = sr.Recognizer()\n",
    "    with sr.Microphone() as source:\n",
    "        print(\"[...listening...]\")\n",
    "        audio = r.listen(source)\n",
    "    #Recognize speech using Sphinx\n",
    "\n",
    "    try:\n",
    "        listened = r.recognize_google(audio) \n",
    "        print(\"You said: \" + listened)\n",
    "    except sr.UnknownValueError:\n",
    "        listened = \"Not understand\"\n",
    "        print(\"could not understand audio\")\n",
    "    except sr.RequestError as e:\n",
    "        listened = \"Error\"\n",
    "        print(\"Error; {0}\".format(e))\n",
    "    except sr.WaitTimeoutError:\n",
    "        listened = \"Did not hear\"\n",
    "        print(\"WaitTimeoutError\")\n",
    "    \n",
    "    return listened"
   ]
  },
  {
   "cell_type": "code",
   "execution_count": null,
   "metadata": {
    "scrolled": true
   },
   "outputs": [],
   "source": [
    "#### Keywords\n",
    "key_words = ['kitchen',\n",
    "            'bathroom',\n",
    "            'call']\n",
    "\n",
    "#### Chatbot structure    \n",
    "\n",
    "#name = input('Enter Your Name: ')\n",
    "welcome_text = \"Welcome to Circuit Launch! I'm Reachy! What is your name?\"# Service! Let me know how can I help you')\n",
    "count = 0\n",
    "speak(welcome_text)\n",
    "name = listen()\n",
    "\n",
    "salutation_text = \"Hi \"+ name +\"! Let me know how can I help you\"\n",
    "speak(salutation_text)\n",
    "\n",
    "while True:\n",
    "    \n",
    "    request = listen()\n",
    "    request_words = request.split()\n",
    "    \n",
    "    for word in request_words:\n",
    "        if word in key_words:\n",
    "            command = word\n",
    "            print(\"Keyword \\\"\"+ command +\"\\\" detected. Executing command/action\")\n",
    "            \n",
    "    if request==\"Bye\" or request=='bye' or request == \"bye-bye\":\n",
    "        text = \"Bye\"\n",
    "        speak(text)\n",
    "        break\n",
    "    else:\n",
    "        response = chatbot.get_response(request)\n",
    "        speak(response.text)\n",
    "        "
   ]
  }
 ],
 "metadata": {
  "kernelspec": {
   "display_name": "Python 3",
   "language": "python",
   "name": "python3"
  },
  "language_info": {
   "codemirror_mode": {
    "name": "ipython",
    "version": 3
   },
   "file_extension": ".py",
   "mimetype": "text/x-python",
   "name": "python",
   "nbconvert_exporter": "python",
   "pygments_lexer": "ipython3",
   "version": "3.8.3"
  }
 },
 "nbformat": 4,
 "nbformat_minor": 4
}
